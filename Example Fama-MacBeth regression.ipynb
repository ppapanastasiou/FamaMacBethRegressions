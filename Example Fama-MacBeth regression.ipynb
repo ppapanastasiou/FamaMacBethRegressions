{
 "cells": [
  {
   "cell_type": "markdown",
   "metadata": {},
   "source": [
    "# Estimating the Risk Premia using Fama-MacBeth Regressions"
   ]
  },
  {
   "cell_type": "markdown",
   "metadata": {},
   "source": [
    "This example highlights how to implement a Fama-MacBeth 2-stage regression to estimate factor risk premia, make inference on the risk premia, and test whether a linear factor model can explain a cross-section of portfolio returns. This example closely follows [Cochrane::2001] (See also [JagannathanSkoulakisWang::2010]). As in the previous example, the first segment contains the imports. "
   ]
  },
  {
   "cell_type": "code",
   "execution_count": 17,
   "metadata": {},
   "outputs": [],
   "source": [
    "import statsmodels.api as sm\n",
    "from numpy import (\n",
    "    array,\n",
    "    cov,\n",
    "    diag,\n",
    "    eye,\n",
    "    hstack,\n",
    "    kron,\n",
    "    mat,\n",
    "    mean,\n",
    "    multiply,\n",
    "    ones,\n",
    "    savez_compressed,\n",
    "    sqrt,\n",
    "    squeeze,\n",
    "    vstack,\n",
    "    zeros,\n",
    ")\n",
    "from numpy.linalg import inv\n",
    "from pandas import read_csv\n",
    "from scipy.stats import chi2"
   ]
  },
  {
   "cell_type": "markdown",
   "metadata": {},
   "source": [
    "Next, the data are imported. I formatted the data downloaded from Ken French's website into an easy-to-import CSV which can be read by `pandas.read_csv`. The data is split using named columns for the small sets of variables and `ix` for the portfolios. The code uses pure NumPy arrays, and so `values` is used to retrieve the array from the DataFrame. The dimensions are determined using `shape`. Finally the risk free rate is forced to have 2 dimensions so that it will be broadcastable with the portfolio returns in the construction of the excess returns to the Size and Value-weighted portfolios. `asmatrix` is used to return matrix views of all of the arrays. This code is linear algebra-heavy and so matrices are easier to use than arrays."
   ]
  },
  {
   "cell_type": "code",
   "execution_count": 18,
   "metadata": {},
   "outputs": [],
   "source": [
    "data = read_csv(\"FamaFrench.csv\")\n",
    "\n",
    "# Split using both named colums and ix for larger blocks\n",
    "dates = data[\"date\"].values\n",
    "factors = data[[\"VWMe\", \"SMB\", \"HML\"]].values\n",
    "riskfree = data[\"RF\"].values\n",
    "portfolios = data.iloc[:, 5:].values\n",
    "\n",
    "# Use mat for easier linear algebra\n",
    "factors = mat(factors)\n",
    "riskfree = mat(riskfree)\n",
    "portfolios = mat(portfolios)\n",
    "\n",
    "# Shape information\n",
    "t, k = factors.shape\n",
    "t, n = portfolios.shape\n",
    "# Reshape rf and compute excess returns\n",
    "riskfree.shape = t, 1\n",
    "excess_returns = portfolios - riskfree"
   ]
  },
  {
   "cell_type": "markdown",
   "metadata": {},
   "source": [
    "\n",
    "The next block does 2 things:\n",
    "\n",
    "1. Compute the time-series $\\beta$s. This is done be regressing the full array of excess returns on the factors (augmented with a constant) using lstsq.\n",
    "2. Compute the risk premia using a cross-sectional regression of average excess returns on the estimates $\\beta$s. This is a standard regression where the step 1 $\\beta$ estimates are used as regressors, and the dependent variable is the average excess return."
   ]
  },
  {
   "cell_type": "code",
   "execution_count": 19,
   "metadata": {},
   "outputs": [
    {
     "name": "stdout",
     "output_type": "stream",
     "text": [
      "[0.55535352 0.2394288  0.23400198]\n"
     ]
    }
   ],
   "source": [
    "# Time series regressions\n",
    "x = sm.add_constant(factors)\n",
    "ts_res = sm.OLS(excess_returns, x).fit()\n",
    "alpha = ts_res.params[0]\n",
    "beta = ts_res.params[1:]\n",
    "avgexcess_returns = mean(excess_returns, 0)\n",
    "# Cross-section regression\n",
    "cs_res = sm.OLS(avgexcess_returns.T, beta.T).fit()\n",
    "risk_premia = cs_res.params\n",
    "print(risk_premia)"
   ]
  },
  {
   "cell_type": "markdown",
   "metadata": {},
   "source": [
    "\n",
    "The asymptotic variance requires computing the covariance of the demeaned returns and the weighted pricing errors. The problem is formulated using 2-step GMM where the moment conditions are \n",
    "\\begin{equation}\n",
    "g_{t}\\left(\\theta\\right)=\\left[\\begin{array}{c}\n",
    "\\epsilon_{1t}\\\\\n",
    "\\epsilon_{1t}f_{t}\\\\\n",
    "\\epsilon_{2t}\\\\\n",
    "\\epsilon_{2t}f_{t}\\\\\n",
    "\\vdots\\\\\n",
    "\\epsilon_{Nt}\\\\\n",
    "\\epsilon_{Nt}f_{t}\\\\\n",
    "\\beta u_{t}\n",
    "\\end{array}\\right]\n",
    "\\end{equation}\n",
    "\n",
    "where $\\epsilon_{it}=r_{it}^{e}-\\alpha_{i}-\\beta_{i}^{\\prime}f_{t}$, $\\beta_{i}$ is a $K$ by 1 vector of factor loadings, $f_{t}$ is a $K$ by 1 set of factors, $\\beta=\\left[\\beta_{1}\\,\\beta_{2}\\ldots\\beta_{N}\\right]$ is a $K$ by $N$ matrix of all factor loadings, $u_{t}=r_{t}^{e}-\\beta'\\lambda$ are the $N$ by 1 vector of pricing errors and $\\lambda$ is a $K$  by 1 vector of risk premia. \n",
    "The vector of parameters is then $\\theta= \\left[\\alpha_{1}\\:\\beta_{1}^{\\prime}\\:\\alpha_{2}\\:\\beta_{2}^{\\prime}\\:\\ldots\\:\\alpha_{N}\\,\\beta_{N}^{\\prime}\\:\\lambda'\\right]'$\n",
    " To make inference on this problem, the derivative of the moments with respect to the parameters, $\\partial g_{t}\\left(\\theta\\right)/\\partial\\theta^{\\prime}$ is needed. With some work, the estimator of this matrix can be seen to be \n",
    " \n",
    "\\begin{equation}\n",
    " G=E\\left[\\frac{\\partial g_{t}\\left(\\theta\\right)}{\\partial\\theta^{\\prime}}\\right]=\\left[\\begin{array}{cc}\n",
    "-I_{n}\\otimes\\Sigma_{X} & 0\\\\\n",
    "G_{21} & -\\beta\\beta^{\\prime}\n",
    "\\end{array}\\right].\n",
    "\\end{equation}\n",
    "\n",
    "where $X_{t}=\\left[1\\: f_{t}^{\\prime}\\right]'$  and $\\Sigma_{X}=E\\left[X_{t}X_{t}^{\\prime}\\right]$. $G_{21}$ is a matrix with the structure \n",
    "\n",
    "\\begin{equation}\n",
    "G_{21}=\\left[G_{21,1}\\, G_{21,2}\\,\\ldots G_{21,N}\\right]\n",
    "\\end{equation}\n",
    "\n",
    "where \n",
    "\n",
    "\\begin{equation}\n",
    "G_{21,i}=\\left[\\begin{array}{cc} \n",
    "0_{K,1} & \\textrm{diag}\\left(E\\left[u_{i}\\right]-\\beta_{i}\\odot\\lambda\\right)\\end{array}\\right]\\end{equation}\n",
    "\n",
    "and where $E\\left[u_{i}\\right]$ is the expected pricing error. In estimation, all expectations are replaced with their sample analogues."
   ]
  },
  {
   "cell_type": "code",
   "execution_count": 31,
   "metadata": {},
   "outputs": [
    {
     "name": "stdout",
     "output_type": "stream",
     "text": [
      "(1026, 25)\n",
      "(103, 103)\n"
     ]
    }
   ],
   "source": [
    "# Moment conditions\n",
    "X = sm.add_constant(factors)\n",
    "p = vstack((alpha, beta))\n",
    "epsilon = excess_returns - x @ p\n",
    "moments1 = kron(epsilon, ones((1, k + 1)))\n",
    "moments1 = multiply(moments1, kron(ones((1, n)), x))\n",
    "u = excess_returns - risk_premia[None, :] @ beta\n",
    "moments2 = u * beta.T\n",
    "# Score covariance\n",
    "S = mat(cov(hstack((moments1, moments2)).T))\n",
    "# Jacobian\n",
    "G = mat(zeros((n * k + n + k, n * k + n + k)))\n",
    "sigma_x = (x.T @ x) / t\n",
    "G[: n * k + n, : n * k + n] = kron(eye(n), sigma_x)\n",
    "G[n * k + n :, n * k + n :] = -beta @ beta.T\n",
    "for i in range(n):\n",
    "    temp = zeros((k, k + 1))\n",
    "    values = mean(u[:, i]) - multiply(beta[:, i], risk_premia)\n",
    "    temp[:, 1:] = diag(values)\n",
    "    G[n * k + n :, i * (k + 1) : (i + 1) * (k + 1)] = temp\n",
    "\n",
    "vcv = inv(G.T) * S * inv(G) / t\n",
    "print(u.shape)\n",
    "print(vcv.shape)"
   ]
  },
  {
   "cell_type": "markdown",
   "metadata": {},
   "source": [
    "The $J$-test examines whether the average pricing errors, $\\hat{\\alpha}$, are zero. The $J$ statistic has an asymptotic $\\chi_{N}^{2}$  distribution, and the model is badly rejected."
   ]
  },
  {
   "cell_type": "code",
   "execution_count": 35,
   "metadata": {},
   "outputs": [
    {
     "name": "stdout",
     "output_type": "stream",
     "text": [
      "95.28789335525714\n",
      "3.8527814272271144e-10\n"
     ]
    }
   ],
   "source": [
    "vcv_alpha = vcv[0 : n * k + n : 4, 0 : n * k + n : 4]\n",
    "J = alpha @ inv(vcv_alpha) @ alpha.T\n",
    "J = J[0, 0]\n",
    "Jpval = 1 - chi2(25).cdf(J)\n",
    "print(J)\n",
    "print(Jpval)\n"
   ]
  },
  {
   "cell_type": "markdown",
   "metadata": {},
   "source": [
    "The final block using formatted output to present all of the results in a readable manner."
   ]
  },
  {
   "cell_type": "code",
   "execution_count": 36,
   "metadata": {},
   "outputs": [
    {
     "name": "stdout",
     "output_type": "stream",
     "text": [
      "(3, 3)\n",
      "        Annualized Risk Premia\n",
      "           Market       SMB        HML\n",
      "--------------------------------------\n",
      "Premia     6.6642    2.8731     2.8080\n",
      "Std. Err.  0.5994    0.4010     0.4296\n",
      "\n",
      "\n",
      "\n",
      "J-test:   95.2879\n",
      "P-value:   0.0000\n",
      "Size: 1, Value:1   Alpha   Beta(VWM)   Beta(SMB)   Beta(HML)\n",
      "Coefficients:    -0.8354      1.3099      1.2892      0.3943\n",
      "Std Err.          0.1820      0.1269      0.1671      0.2748\n",
      "T-stat           -4.5904     10.3196      7.7127      1.4348\n",
      "\n",
      "Size: 1, Value:2   Alpha   Beta(VWM)   Beta(SMB)   Beta(HML)\n",
      "Coefficients:    -0.3911      1.0853      1.6100      0.3317\n",
      "Std Err.          0.1237      0.0637      0.1893      0.1444\n",
      "T-stat           -3.1616     17.0351      8.5061      2.2971\n",
      "\n",
      "Size: 1, Value:3   Alpha   Beta(VWM)   Beta(SMB)   Beta(HML)\n",
      "Coefficients:    -0.1219      1.0747      1.1812      0.4648\n",
      "Std Err.          0.0997      0.0419      0.0938      0.0723\n",
      "T-stat           -1.2225     25.6206     12.5952      6.4310\n",
      "\n",
      "Size: 1, Value:4   Alpha   Beta(VWM)   Beta(SMB)   Beta(HML)\n",
      "Coefficients:     0.0388      0.9630      1.2249      0.5854\n",
      "Std Err.          0.0692      0.0232      0.1003      0.0353\n",
      "T-stat            0.5614     41.5592     12.2108     16.5705\n",
      "\n",
      "Size: 1, Value:5   Alpha   Beta(VWM)   Beta(SMB)   Beta(HML)\n",
      "Coefficients:     0.0918      0.9850      1.3453      0.9052\n",
      "Std Err.          0.0676      0.0255      0.0818      0.0610\n",
      "T-stat            1.3580     38.5669     16.4489     14.8404\n",
      "\n",
      "Size: 2, Value:1   Alpha   Beta(VWM)   Beta(SMB)   Beta(HML)\n",
      "Coefficients:    -0.2397      1.0691      1.0520     -0.2647\n",
      "Std Err.          0.0725      0.0318      0.0609      0.0591\n",
      "T-stat           -3.3052     33.6540     17.2706     -4.4768\n",
      "\n",
      "Size: 2, Value:2   Alpha   Beta(VWM)   Beta(SMB)   Beta(HML)\n",
      "Coefficients:    -0.0194      1.0416      0.9880      0.1877\n",
      "Std Err.          0.0615      0.0170      0.0776      0.0350\n",
      "T-stat           -0.3162     61.1252     12.7393      5.3646\n",
      "\n",
      "Size: 2, Value:3   Alpha   Beta(VWM)   Beta(SMB)   Beta(HML)\n",
      "Coefficients:     0.0898      0.9590      0.8619      0.3553\n",
      "Std Err.          0.0517      0.0170      0.0733      0.0320\n",
      "T-stat            1.7359     56.4856     11.7528     11.0968\n",
      "\n",
      "Size: 2, Value:4   Alpha   Beta(VWM)   Beta(SMB)   Beta(HML)\n",
      "Coefficients:     0.0482      0.9788      0.8178      0.5562\n",
      "Std Err.          0.0495      0.0138      0.0454      0.0281\n",
      "T-stat            0.9733     70.7006     18.0210     19.8055\n",
      "\n",
      "Size: 2, Value:5   Alpha   Beta(VWM)   Beta(SMB)   Beta(HML)\n",
      "Coefficients:    -0.0109      1.0502      0.9373      0.8493\n",
      "Std Err.          0.0596      0.0182      0.0281      0.0263\n",
      "T-stat           -0.1830     57.7092     33.3971     32.2980\n",
      "\n",
      "Size: 3, Value:1   Alpha   Beta(VWM)   Beta(SMB)   Beta(HML)\n",
      "Coefficients:    -0.1556      1.1416      0.7883     -0.1980\n",
      "Std Err.          0.0591      0.0190      0.0445      0.0411\n",
      "T-stat           -2.6320     60.1173     17.6973     -4.8171\n",
      "\n",
      "Size: 3, Value:2   Alpha   Beta(VWM)   Beta(SMB)   Beta(HML)\n",
      "Coefficients:     0.0889      1.0133      0.5151      0.0720\n",
      "Std Err.          0.0553      0.0179      0.0340      0.0334\n",
      "T-stat            1.6068     56.6380     15.1651      2.1546\n",
      "\n",
      "Size: 3, Value:3   Alpha   Beta(VWM)   Beta(SMB)   Beta(HML)\n",
      "Coefficients:     0.1118      1.0129      0.4130      0.3379\n",
      "Std Err.          0.0578      0.0267      0.0324      0.0321\n",
      "T-stat            1.9344     37.9790     12.7488     10.5399\n",
      "\n",
      "Size: 3, Value:4   Alpha   Beta(VWM)   Beta(SMB)   Beta(HML)\n",
      "Coefficients:     0.0818      0.9615      0.4646      0.5068\n",
      "Std Err.          0.0568      0.0141      0.0475      0.0301\n",
      "T-stat            1.4399     68.3360      9.7754     16.8580\n",
      "\n",
      "Size: 3, Value:5   Alpha   Beta(VWM)   Beta(SMB)   Beta(HML)\n",
      "Coefficients:    -0.0526      1.1447      0.4970      0.9143\n",
      "Std Err.          0.0687      0.0197      0.0509      0.0390\n",
      "T-stat           -0.7655     58.0319      9.7690     23.4302\n",
      "\n",
      "Size: 4, Value:1   Alpha   Beta(VWM)   Beta(SMB)   Beta(HML)\n",
      "Coefficients:     0.0902      1.0661      0.2857     -0.3692\n",
      "Std Err.          0.0498      0.0151      0.0444      0.0323\n",
      "T-stat            1.8127     70.4710      6.4268    -11.4334\n",
      "\n",
      "Size: 4, Value:2   Alpha   Beta(VWM)   Beta(SMB)   Beta(HML)\n",
      "Coefficients:    -0.0104      1.0308      0.2430      0.1328\n",
      "Std Err.          0.0534      0.0217      0.0300      0.0294\n",
      "T-stat           -0.1952     47.5567      8.0926      4.5183\n",
      "\n",
      "Size: 4, Value:3   Alpha   Beta(VWM)   Beta(SMB)   Beta(HML)\n",
      "Coefficients:     0.0392      1.0096      0.2214      0.2980\n",
      "Std Err.          0.0572      0.0209      0.0436      0.0486\n",
      "T-stat            0.6862     48.3271      5.0836      6.1333\n",
      "\n",
      "Size: 4, Value:4   Alpha   Beta(VWM)   Beta(SMB)   Beta(HML)\n",
      "Coefficients:     0.0148      1.0437      0.2016      0.5857\n",
      "Std Err.          0.0593      0.0224      0.0343      0.0484\n",
      "T-stat            0.2497     46.5053      5.8694     12.0922\n",
      "\n",
      "Size: 4, Value:5   Alpha   Beta(VWM)   Beta(SMB)   Beta(HML)\n",
      "Coefficients:    -0.1762      1.2284      0.2974      0.9834\n",
      "Std Err.          0.0803      0.0224      0.0490      0.0378\n",
      "T-stat           -2.1927     54.8427      6.0726     26.0265\n",
      "\n",
      "Size: 5, Value:1   Alpha   Beta(VWM)   Beta(SMB)   Beta(HML)\n",
      "Coefficients:     0.0794      1.0310     -0.1507     -0.2508\n",
      "Std Err.          0.0372      0.0095      0.0247      0.0168\n",
      "T-stat            2.1369    108.0844     -6.1067    -14.9673\n",
      "\n",
      "Size: 5, Value:2   Alpha   Beta(VWM)   Beta(SMB)   Beta(HML)\n",
      "Coefficients:     0.0535      0.9576     -0.1893     -0.0107\n",
      "Std Err.          0.0457      0.0170      0.0243      0.0239\n",
      "T-stat            1.1690     56.3228     -7.7765     -0.4458\n",
      "\n",
      "Size: 5, Value:3   Alpha   Beta(VWM)   Beta(SMB)   Beta(HML)\n",
      "Coefficients:    -0.0236      0.9753     -0.2173      0.3127\n",
      "Std Err.          0.0559      0.0178      0.0309      0.0256\n",
      "T-stat           -0.4225     54.6936     -7.0217     12.2061\n",
      "\n",
      "Size: 5, Value:4   Alpha   Beta(VWM)   Beta(SMB)   Beta(HML)\n",
      "Coefficients:    -0.1978      1.0546     -0.1732      0.7115\n",
      "Std Err.          0.0587      0.0230      0.0300      0.0316\n",
      "T-stat           -3.3679     45.7933     -5.7749     22.5339\n",
      "\n",
      "Size: 5, Value:5   Alpha   Beta(VWM)   Beta(SMB)   Beta(HML)\n",
      "Coefficients:    -1.2737      1.1045      0.0076      0.8527\n",
      "Std Err.          0.3557      0.1143      0.1594      0.1490\n",
      "T-stat           -3.5805      9.6657      0.0477      5.7232\n",
      "\n"
     ]
    }
   ],
   "source": [
    "vcvrisk_premia = vcv[n * k + n :, n * k + n :]\n",
    "print(vcvrisk_premia.shape)\n",
    "annualized_rp = 12 * risk_premia\n",
    "arp = list(squeeze(annualized_rp))\n",
    "arp_se = list(sqrt(12 * diag(vcvrisk_premia)))\n",
    "print(\"        Annualized Risk Premia\")\n",
    "print(\"           Market       SMB        HML\")\n",
    "print(\"--------------------------------------\")\n",
    "print(f\"Premia     {arp[0]:0.4f}    {arp[1]:0.4f}     {arp[2]:0.4f}\")\n",
    "print(f\"Std. Err.  {arp_se[0]:0.4f}    {arp_se[1]:0.4f}     {arp_se[2]:0.4f}\")\n",
    "print(\"\\n\\n\")\n",
    "\n",
    "print(f\"J-test:   {J:0.4f}\")\n",
    "print(f\"P-value:   {Jpval:0.4f}\")\n",
    "\n",
    "i = 0\n",
    "beta_se = []\n",
    "for j in range(5):\n",
    "    for m in range(5):\n",
    "        a = alpha[i]\n",
    "        b = beta[:, i]\n",
    "        variances = diag(\n",
    "            vcv[(k + 1) * i : (k + 1) * (i + 1), (k + 1) * i : (k + 1) * (i + 1)]\n",
    "        )\n",
    "        beta_se.append(sqrt(variances))\n",
    "        s = sqrt(variances)\n",
    "        c = hstack((a, b))\n",
    "        t = c / s\n",
    "        print(f\"Size: {j+1}, Value:{m+1}   Alpha   Beta(VWM)   Beta(SMB)   Beta(HML)\")\n",
    "        print(\n",
    "            f\"Coefficients: {a:>10,.4f}  {b[0]:>10,.4f}  {b[1]:>10,.4f}  {b[2]:>10,.4f}\"\n",
    "        )\n",
    "        print(\n",
    "            f\"Std Err.      {s[0]:>10,.4f}  {s[1]:>10,.4f}  {s[2]:>10,.4f}  {s[3]:>10,.4f}\"\n",
    "        )\n",
    "        print(\n",
    "            f\"T-stat        {t[0]:>10,.4f}  {t[1]:>10,.4f}  {t[2]:>10,.4f}  {t[3]:>10,.4f}\"\n",
    "        )\n",
    "        print(\"\")\n",
    "        i += 1"
   ]
  },
  {
   "cell_type": "markdown",
   "metadata": {},
   "source": [
    "The final block converts the standard errors of $\\beta$ to be an array and saves the results."
   ]
  },
  {
   "cell_type": "code",
   "execution_count": 7,
   "metadata": {},
   "outputs": [],
   "source": [
    "beta_se = array(beta_se)\n",
    "savez_compressed(\n",
    "    \"fama-macbeth-results\",\n",
    "    alpha=alpha,\n",
    "    beta=beta,\n",
    "    beta_se=beta_se,\n",
    "    arp_se=arp_se,\n",
    "    arp=arp,\n",
    "    J=J,\n",
    "    Jpval=Jpval,\n",
    ")"
   ]
  },
  {
   "cell_type": "markdown",
   "metadata": {
    "pycharm": {
     "name": "#%% md\n"
    }
   },
   "source": [
    "## Save Results\n",
    "\n",
    "Save the estimated values for use in the $\\LaTeX$ notebook. "
   ]
  },
  {
   "cell_type": "code",
   "execution_count": null,
   "metadata": {
    "pycharm": {
     "name": "#%%\n"
    }
   },
   "outputs": [],
   "source": [
    "from numpy import savez\n",
    "\n",
    "savez(\n",
    "    \"fama-macBeth-results.npz\",\n",
    "    arp=arp,\n",
    "    beta=beta,\n",
    "    arp_se=arp_se,\n",
    "    beta_se=beta_se,\n",
    "    J=J,\n",
    "    Jpval=Jpval,\n",
    ")"
   ]
  }
 ],
 "metadata": {
  "kernelspec": {
   "display_name": "Python 3 (ipykernel)",
   "language": "python",
   "name": "python3"
  },
  "language_info": {
   "codemirror_mode": {
    "name": "ipython",
    "version": 3
   },
   "file_extension": ".py",
   "mimetype": "text/x-python",
   "name": "python",
   "nbconvert_exporter": "python",
   "pygments_lexer": "ipython3",
   "version": "3.9.13"
  }
 },
 "nbformat": 4,
 "nbformat_minor": 4
}
